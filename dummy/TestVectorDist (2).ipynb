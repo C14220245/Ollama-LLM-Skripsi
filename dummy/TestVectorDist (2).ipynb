{
 "cells": [
  {
   "cell_type": "code",
   "execution_count": 4,
   "id": "54200f90-fb12-4674-9751-2cae25b96b5c",
   "metadata": {},
   "outputs": [],
   "source": [
    "from ollama import Client\n",
    "from fastembed import TextEmbedding\n",
    "from sentence_transformers import SentenceTransformer"
   ]
  },
  {
   "cell_type": "code",
   "execution_count": 9,
   "id": "7c119aea-2f22-45d5-9e1a-3b6137b091c3",
   "metadata": {},
   "outputs": [],
   "source": [
    "target_data = \"\"\"\n",
    "Daftar dosen yang tersedia untuk bimbingan beserta aliasnya atau nama panggilannya:\n",
    "Adi Wibowo S.T., M.T., Ph.D\tPak Adi\n",
    "Liliana, S.T., M.Eng., Ph.D.\tBu Liliana\tBu Lili\n",
    "Justinus Andjarwirawan, S.T.,M.Eng.\tPak Justinus\tPak Justin\n",
    "Stephanus A. Ananda, S.T., M.Sc. Ph.D.\tPak Steph\tPak Stephanus\n",
    "Ir. Resmana Lim, M.Eng\tPak Resmana\tPak Res\n",
    "Agustinus Noertjahyana, S.Kom., M.MT.\tPak Agus\tPak Agustinus\n",
    "Tanti Octavia, S.T., M.Eng.\tBu Tanti\n",
    "I Gede Agus Widyadana, S.T., M.Eng., PH.D.\tPak Agus\n",
    "Dr. Roy Setiawan, S.Kom., M.M., M.SM., M.Th.\tPak Roy\n",
    "Dr. Ing. Indar Sugiarto, S.T., M.Sc.\tPak Indar\n",
    "Prof. Dr.Eng., Ir. Rolly Intan, M.A.Sc.\tPak Rolly\n",
    "Ir. Djoni Haryadi Setiabudi, M.Eng.\tPak Joni\tPak Djoni\n",
    "Dr. Gregorius Satia Budhi, S.T., M.T.\tPak Greg\tPak Gregorius\tPak Gregorious\n",
    "Yulia, S.T., M.Kom.\tBu Yulia\tBu Yuli\n",
    "Henry Novianus Palit, S.Kom., M.Kom., Ph.D.\tPak Henry\tPak Henri\n",
    "Rudy Adipranata, S.T, M.Eng.\tPak Rudi\tPak Rudy\n",
    "Prof. Dr.rer.nat. Siana Halim, S.Si., M.Sc.nat.\tBu Siana\tBu Si\n",
    "Lily Puspa Dewi, S.T., M.Kom.\tBu Lili\tBu Lily\n",
    "Silvia Rostianingsih, S.Kom., M.MT.\tBu Silvi\tBu Silvia\n",
    "Alexander Setiawan, S.Kom., M.T.\tPak Alex\tPak Alexander\n",
    "Hans Juwiantho, S.Kom., M.Kom.\tPak Hans\n",
    "Dr. Andreas Handojo, S.T., M.MT.\tPak Andreas\tPak Andre\n",
    "Leo Willyanto Santoso, S.Kom., M.IT.\tPak Leo\n",
    "\"\"\""
   ]
  },
  {
   "cell_type": "code",
   "execution_count": 5,
   "id": "3d12517f-b08c-4fcd-9b98-f4463007b2e9",
   "metadata": {},
   "outputs": [
    {
     "data": {
      "application/vnd.jupyter.widget-view+json": {
       "model_id": "b22a3737b2bb45ba92498707142b4436",
       "version_major": 2,
       "version_minor": 0
      },
      "text/plain": [
       "Fetching 5 files:   0%|          | 0/5 [00:00<?, ?it/s]"
      ]
     },
     "metadata": {},
     "output_type": "display_data"
    }
   ],
   "source": [
    "ollama = Client()\n",
    "fe = TextEmbedding(model_name=\"jinaai/jina-embeddings-v2-base-en\", cache_dir=\"./V2/fastembed_cache\")"
   ]
  },
  {
   "cell_type": "code",
   "execution_count": 15,
   "id": "dc0be805-818c-4366-8f7d-66536e3f611a",
   "metadata": {},
   "outputs": [
    {
     "data": {
      "text/plain": [
       "0.8423436216929399"
      ]
     },
     "execution_count": 15,
     "metadata": {},
     "output_type": "execute_result"
    }
   ],
   "source": [
    "ollama_embeddings = ollama.embeddings(model=\"jina/jina-embeddings-v2-base-en\", prompt=target_data)[\"embedding\"]\n",
    "fe_embeddings = list(fe.embed([target_data]))[0]\n",
    "\n",
    "# Compare\n",
    "from numpy import dot\n",
    "from numpy.linalg import norm\n",
    "\n",
    "a = ollama_embeddings\n",
    "b = fe_embeddings\n",
    "\n",
    "dot(a, b) / (norm(a) * norm(b))"
   ]
  },
  {
   "cell_type": "code",
   "execution_count": 24,
   "id": "746a6a3c-1e7a-4703-9482-d5e915affa3c",
   "metadata": {},
   "outputs": [
    {
     "data": {
      "text/plain": [
       "0.8415221449011213"
      ]
     },
     "execution_count": 24,
     "metadata": {},
     "output_type": "execute_result"
    }
   ],
   "source": [
    "ollama_embeddings = ollama.embeddings(model=\"jina/jina-embeddings-v2-base-en\", prompt=target_data, options={\n",
    "    \"repeat_penalty\": 0,\n",
    "    \"repeat_last_n\": 0\n",
    "})[\"embedding\"]\n",
    "fe_embeddings = list(fe.embed([target_data]))[0]\n",
    "\n",
    "# Compare\n",
    "from numpy import dot\n",
    "from numpy.linalg import norm\n",
    "\n",
    "a = ollama_embeddings\n",
    "b = fe_embeddings\n",
    "\n",
    "dot(a, b) / (norm(a) * norm(b))"
   ]
  },
  {
   "cell_type": "code",
   "execution_count": 47,
   "id": "5fb2d7e6-1e82-4f6a-a637-3f38493154ef",
   "metadata": {},
   "outputs": [
    {
     "data": {
      "application/vnd.jupyter.widget-view+json": {
       "model_id": "f070bc4ea9f248d9bbbdf46938d88aeb",
       "version_major": 2,
       "version_minor": 0
      },
      "text/plain": [
       "Fetching 5 files:   0%|          | 0/5 [00:00<?, ?it/s]"
      ]
     },
     "metadata": {},
     "output_type": "display_data"
    }
   ],
   "source": [
    "fe_nomic = TextEmbedding(model_name=\"nomic-ai/nomic-embed-text-v1.5\", cache_dir=\"./V2/fastembed_cache\")"
   ]
  },
  {
   "cell_type": "code",
   "execution_count": 48,
   "id": "83c29760-876a-4250-a923-acd680128974",
   "metadata": {},
   "outputs": [],
   "source": [
    "ollama_embeddings = ollama.embed(model=\"nomic-embed-text\", input=\"search_document: \"+target_data)[\"embeddings\"]\n",
    "fe_embeddings = list(fe_nomic.embed([\"search_document: \"+target_data]))[0]"
   ]
  },
  {
   "cell_type": "code",
   "execution_count": 49,
   "id": "f3fd91d0-e29e-4478-898d-9d05e21c6d3e",
   "metadata": {},
   "outputs": [
    {
     "data": {
      "text/plain": [
       "array([0.62976206])"
      ]
     },
     "execution_count": 49,
     "metadata": {},
     "output_type": "execute_result"
    }
   ],
   "source": [
    "# Compare\n",
    "from numpy import dot\n",
    "from numpy.linalg import norm\n",
    "\n",
    "a = ollama_embeddings\n",
    "b = fe_embeddings\n",
    "\n",
    "dot(a, b) / (norm(a) * norm(b))"
   ]
  },
  {
   "cell_type": "code",
   "execution_count": 6,
   "id": "4dbb9c7f-aec8-4ab4-bce2-a12d048c71b4",
   "metadata": {},
   "outputs": [
    {
     "data": {
      "application/vnd.jupyter.widget-view+json": {
       "model_id": "706053174e784c0dbe168779af6bf19c",
       "version_major": 2,
       "version_minor": 0
      },
      "text/plain": [
       "Fetching 5 files:   0%|          | 0/5 [00:00<?, ?it/s]"
      ]
     },
     "metadata": {},
     "output_type": "display_data"
    }
   ],
   "source": [
    "fe_nomic = TextEmbedding(model_name=\"jinaai/jina-embeddings-v2-base-en\", cache_dir=\"./V2/fastembed_cache\")\n",
    "model = SentenceTransformer(\n",
    "    \"jinaai/jina-embeddings-v2-base-en\", # switch to en/zh for English or Chinese\n",
    "    trust_remote_code=True\n",
    ")"
   ]
  },
  {
   "cell_type": "code",
   "execution_count": 10,
   "id": "dc34af68-40b0-448d-b37c-a29297ae4aec",
   "metadata": {},
   "outputs": [],
   "source": [
    "fe_embeddings = list(fe_nomic.embed([\"search_document: \"+target_data]))[0]\n",
    "SF_embed = embeddings = model.encode(target_data)"
   ]
  },
  {
   "cell_type": "code",
   "execution_count": 11,
   "id": "e8ca62da-d5e3-412a-83a8-1741e8d96bb9",
   "metadata": {},
   "outputs": [
    {
     "data": {
      "text/plain": [
       "0.987738"
      ]
     },
     "execution_count": 11,
     "metadata": {},
     "output_type": "execute_result"
    }
   ],
   "source": [
    "# Compare\n",
    "from numpy import dot\n",
    "from numpy.linalg import norm\n",
    "\n",
    "a = SF_embed\n",
    "b = fe_embeddings\n",
    "\n",
    "dot(a, b) / (norm(a) * norm(b))"
   ]
  }
 ],
 "metadata": {
  "kernelspec": {
   "display_name": "Python 3 (ipykernel)",
   "language": "python",
   "name": "python3"
  },
  "language_info": {
   "codemirror_mode": {
    "name": "ipython",
    "version": 3
   },
   "file_extension": ".py",
   "mimetype": "text/x-python",
   "name": "python",
   "nbconvert_exporter": "python",
   "pygments_lexer": "ipython3",
   "version": "3.10.10"
  }
 },
 "nbformat": 4,
 "nbformat_minor": 5
}
